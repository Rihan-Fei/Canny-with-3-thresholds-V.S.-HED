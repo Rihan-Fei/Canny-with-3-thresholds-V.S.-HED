{
  "nbformat": 4,
  "nbformat_minor": 0,
  "metadata": {
    "colab": {
      "provenance": [],
      "authorship_tag": "ABX9TyMReuCG49oz/zfSr87uU1w8",
      "include_colab_link": true
    },
    "kernelspec": {
      "name": "python3",
      "display_name": "Python 3"
    },
    "language_info": {
      "name": "python"
    }
  },
  "cells": [
    {
      "cell_type": "markdown",
      "metadata": {
        "id": "view-in-github",
        "colab_type": "text"
      },
      "source": [
        "<a href=\"https://colab.research.google.com/github/Rihan-Fei/Canny-with-3-thresholds-V.S.-HED/blob/main/Layer%20check.ipynb\" target=\"_parent\"><img src=\"https://colab.research.google.com/assets/colab-badge.svg\" alt=\"Open In Colab\"/></a>"
      ]
    },
    {
      "cell_type": "code",
      "execution_count": null,
      "metadata": {
        "colab": {
          "base_uri": "https://localhost:8080/"
        },
        "id": "RxnGrPAcWbS1",
        "outputId": "e2acb58c-5b4d-470d-8485-ea9e525d1ab9"
      },
      "outputs": [
        {
          "output_type": "stream",
          "name": "stdout",
          "text": [
            "Get:1 https://cloud.r-project.org/bin/linux/ubuntu jammy-cran40/ InRelease [3,626 B]\n",
            "Hit:2 https://developer.download.nvidia.com/compute/cuda/repos/ubuntu2204/x86_64  InRelease\n",
            "Get:3 http://security.ubuntu.com/ubuntu jammy-security InRelease [129 kB]\n",
            "Hit:4 http://archive.ubuntu.com/ubuntu jammy InRelease\n",
            "Get:5 https://r2u.stat.illinois.edu/ubuntu jammy InRelease [6,555 B]\n",
            "Get:6 http://archive.ubuntu.com/ubuntu jammy-updates InRelease [128 kB]\n",
            "Get:7 https://r2u.stat.illinois.edu/ubuntu jammy/main all Packages [8,566 kB]\n",
            "Hit:8 https://ppa.launchpadcontent.net/deadsnakes/ppa/ubuntu jammy InRelease\n",
            "Hit:9 https://ppa.launchpadcontent.net/graphics-drivers/ppa/ubuntu jammy InRelease\n",
            "Hit:10 https://ppa.launchpadcontent.net/ubuntugis/ppa/ubuntu jammy InRelease\n",
            "Get:11 http://archive.ubuntu.com/ubuntu jammy-backports InRelease [127 kB]\n",
            "Get:12 https://r2u.stat.illinois.edu/ubuntu jammy/main amd64 Packages [2,630 kB]\n",
            "Get:13 http://security.ubuntu.com/ubuntu jammy-security/restricted amd64 Packages [3,448 kB]\n",
            "Get:14 http://security.ubuntu.com/ubuntu jammy-security/main amd64 Packages [2,517 kB]\n",
            "Get:15 http://security.ubuntu.com/ubuntu jammy-security/universe amd64 Packages [1,226 kB]\n",
            "Get:16 http://archive.ubuntu.com/ubuntu jammy-updates/restricted amd64 Packages [3,633 kB]\n",
            "Get:17 http://archive.ubuntu.com/ubuntu jammy-updates/universe amd64 Packages [1,517 kB]\n",
            "Get:18 http://archive.ubuntu.com/ubuntu jammy-updates/main amd64 Packages [2,840 kB]\n",
            "Get:19 http://archive.ubuntu.com/ubuntu jammy-backports/universe amd64 Packages [33.8 kB]\n",
            "Get:20 http://archive.ubuntu.com/ubuntu jammy-backports/main amd64 Packages [81.4 kB]\n",
            "Fetched 26.9 MB in 4s (6,173 kB/s)\n",
            "Reading package lists... Done\n",
            "W: Skipping acquire of configured file 'main/source/Sources' as repository 'https://r2u.stat.illinois.edu/ubuntu jammy InRelease' does not seem to provide it (sources.list entry misspelt?)\n",
            "Reading package lists... Done\n",
            "Building dependency tree... Done\n",
            "Reading state information... Done\n",
            "build-essential is already the newest version (12.9ubuntu3).\n",
            "libatlas-base-dev is already the newest version (3.10.3-12ubuntu1).\n",
            "libboost-all-dev is already the newest version (1.74.0.3ubuntu7).\n",
            "cmake is already the newest version (3.22.1-1ubuntu1.22.04.2).\n",
            "git is already the newest version (1:2.34.1-1ubuntu1.11).\n",
            "libopencv-dev is already the newest version (4.5.4+dfsg-9ubuntu4+jammy0).\n",
            "0 upgraded, 0 newly installed, 0 to remove and 50 not upgraded.\n",
            "Cloning into 'caffe'...\n",
            "remote: Enumerating objects: 65274, done.\u001b[K\n",
            "remote: Total 65274 (delta 0), reused 0 (delta 0), pack-reused 65274 (from 1)\u001b[K\n",
            "Receiving objects: 100% (65274/65274), 74.14 MiB | 20.20 MiB/s, done.\n",
            "Resolving deltas: 100% (41241/41241), done.\n",
            "/content/caffe\n",
            "PROTOC src/caffe/proto/caffe.proto\n",
            "CXX .build_release/src/caffe/proto/caffe.pb.cc\n",
            "In file included from .build_release/src/caffe/proto/caffe.pb.cc:4:\n",
            ".build_release/src/caffe/proto/caffe.pb.h:10:10: fatal error: google/protobuf/port_def.inc: No such file or directory\n",
            "   10 | #include <google/protobuf/port_def.inc>\n",
            "      |          ^~~~~~~~~~~~~~~~~~~~~~~~~~~~~~\n",
            "compilation terminated.\n",
            "make: *** [Makefile:599: .build_release/src/caffe/proto/caffe.pb.o] Error 1\n",
            "CXX src/caffe/test/test_deconvolution_layer.cpp\n",
            "In file included from ./include/caffe/blob.hpp:8,\n",
            "                 from src/caffe/test/test_deconvolution_layer.cpp:5:\n",
            "./include/caffe/common.hpp:5:10: fatal error: gflags/gflags.h: No such file or directory\n",
            "    5 | #include <gflags/gflags.h>\n",
            "      |          ^~~~~~~~~~~~~~~~~\n",
            "compilation terminated.\n",
            "make: *** [Makefile:592: .build_release/src/caffe/test/test_deconvolution_layer.o] Error 1\n",
            "CXX src/caffe/test/test_deconvolution_layer.cpp\n",
            "In file included from ./include/caffe/blob.hpp:8,\n",
            "                 from src/caffe/test/test_deconvolution_layer.cpp:5:\n",
            "./include/caffe/common.hpp:5:10: fatal error: gflags/gflags.h: No such file or directory\n",
            "    5 | #include <gflags/gflags.h>\n",
            "      |          ^~~~~~~~~~~~~~~~~\n",
            "compilation terminated.\n",
            "make: *** [Makefile:592: .build_release/src/caffe/test/test_deconvolution_layer.o] Error 1\n",
            "CXX .build_release/src/caffe/proto/caffe.pb.cc\n",
            "In file included from .build_release/src/caffe/proto/caffe.pb.cc:4:\n",
            ".build_release/src/caffe/proto/caffe.pb.h:10:10: fatal error: google/protobuf/port_def.inc: No such file or directory\n",
            "   10 | #include <google/protobuf/port_def.inc>\n",
            "      |          ^~~~~~~~~~~~~~~~~~~~~~~~~~~~~~\n",
            "compilation terminated.\n",
            "make: *** [Makefile:599: .build_release/src/caffe/proto/caffe.pb.o] Error 1\n"
          ]
        }
      ],
      "source": [
        "# 安装必要的依赖项\n",
        "!apt-get update\n",
        "!apt-get install -y build-essential cmake git libatlas-base-dev libopencv-dev libboost-all-dev\n",
        "\n",
        "# 克隆 Caffe 仓库\n",
        "!git clone https://github.com/BVLC/caffe.git\n",
        "%cd caffe\n",
        "\n",
        "# 编译 Caffe\n",
        "!cp Makefile.config.example Makefile.config\n",
        "!make all\n",
        "!make test\n",
        "!make runtest\n",
        "\n",
        "# 安装 Python 接口\n",
        "!make pycaffe\n",
        "\n",
        "# 添加 Python 路径\n",
        "import sys\n",
        "sys.path.insert(0, 'caffe/python')"
      ]
    },
    {
      "cell_type": "code",
      "source": [
        "import caffe\n"
      ],
      "metadata": {
        "id": "zYIHofbqWlav"
      },
      "execution_count": null,
      "outputs": []
    },
    {
      "cell_type": "code",
      "source": [
        "\n",
        "import cv2\n",
        "\n",
        "from google.colab import drive\n",
        "drive.mount('/content/drive')\n",
        "\n",
        "#set model path\n",
        "prototxt_path = '/content/drive/My Drive/lunkuo/deploy.prototxt'  # use real path\n",
        "model_path = '/content/drive/My Drive/lunkuo/hed_pretrained_bsds.caffemodel'\n",
        "\n",
        "# load HED model\n",
        "net = cv2.dnn.readNetFromCaffe(prototxt_path, model_path)\n",
        "\n",
        "# Statistical convolutional layer and ReLU activation function layer\n",
        "conv_count = 0\n",
        "relu_count = 0\n",
        "\n",
        "# Traverse all layers\n",
        "for layer in net.getLayerNames():\n",
        "    layer_type = net.getLayer(net.getLayerId(layer)).type\n",
        "    if layer_type == 'Convolution':\n",
        "        conv_count += 1\n",
        "        print(f'Layers: {layer}')\n",
        "    elif layer_type == 'ReLU':\n",
        "        relu_count += 1\n",
        "        print(f'ReLU: {layer}')\n",
        "\n",
        "print(f'In total {conv_count} Convolutional Layers.')\n",
        "print(f'In total {relu_count} ReLU activation layer。')"
      ],
      "metadata": {
        "colab": {
          "base_uri": "https://localhost:8080/"
        },
        "id": "dvjdb3kCX16B",
        "outputId": "0a171fa4-1e75-4e30-ae91-08e0af522fef"
      },
      "execution_count": null,
      "outputs": [
        {
          "output_type": "stream",
          "name": "stdout",
          "text": [
            "Mounted at /content/drive\n",
            "卷积层: conv1_1\n",
            "ReLU 激活层: relu1_1\n",
            "卷积层: conv1_2\n",
            "ReLU 激活层: relu1_2\n",
            "卷积层: conv2_1\n",
            "ReLU 激活层: relu2_1\n",
            "卷积层: conv2_2\n",
            "ReLU 激活层: relu2_2\n",
            "卷积层: conv3_1\n",
            "ReLU 激活层: relu3_1\n",
            "卷积层: conv3_2\n",
            "ReLU 激活层: relu3_2\n",
            "卷积层: conv3_3\n",
            "ReLU 激活层: relu3_3\n",
            "卷积层: conv4_1\n",
            "ReLU 激活层: relu4_1\n",
            "卷积层: conv4_2\n",
            "ReLU 激活层: relu4_2\n",
            "卷积层: conv4_3\n",
            "ReLU 激活层: relu4_3\n",
            "卷积层: conv5_1\n",
            "ReLU 激活层: relu5_1\n",
            "卷积层: conv5_2\n",
            "ReLU 激活层: relu5_2\n",
            "卷积层: conv5_3\n",
            "ReLU 激活层: relu5_3\n",
            "卷积层: score-dsn1-up\n",
            "卷积层: score-dsn2\n",
            "卷积层: score-dsn3\n",
            "卷积层: score-dsn4\n",
            "卷积层: score-dsn5\n",
            "卷积层: upscore-fuse\n",
            "总共有 19 个卷积层。\n",
            "总共有 13 个 ReLU 激活层。\n"
          ]
        }
      ]
    },
    {
      "cell_type": "code",
      "source": [],
      "metadata": {
        "id": "cI9nM6W_rCE7"
      },
      "execution_count": null,
      "outputs": []
    }
  ]
}