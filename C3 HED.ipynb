{
  "nbformat": 4,
  "nbformat_minor": 0,
  "metadata": {
    "colab": {
      "provenance": [],
      "authorship_tag": "ABX9TyMGeNHYAmaGgCJvBOgF/mji",
      "include_colab_link": true
    },
    "kernelspec": {
      "name": "python3",
      "display_name": "Python 3"
    },
    "language_info": {
      "name": "python"
    }
  },
  "cells": [
    {
      "cell_type": "markdown",
      "metadata": {
        "id": "view-in-github",
        "colab_type": "text"
      },
      "source": [
        "<a href=\"https://colab.research.google.com/github/Rihan-Fei/Canny-with-3-thresholds-V.S.-HED/blob/main/C3%20HED.ipynb\" target=\"_parent\"><img src=\"https://colab.research.google.com/assets/colab-badge.svg\" alt=\"Open In Colab\"/></a>"
      ]
    },
    {
      "cell_type": "code",
      "execution_count": null,
      "metadata": {
        "id": "Xc-xAz6Tl6Ex"
      },
      "outputs": [],
      "source": [
        "import os\n",
        "import cv2\n",
        "import numpy as np\n",
        "import matplotlib.pyplot as plt\n",
        "from scipy.io import loadmat\n",
        "from sklearn.metrics import precision_score, recall_score, f1_score\n",
        "from scipy import stats"
      ]
    },
    {
      "cell_type": "code",
      "source": [
        "#Set root directory and output directory\n",
        "train_image_dir = 'path to your original images'  # Replace with your root directory path\n",
        "output_dir = 'path to output'  # Replace with your output directory path\n",
        "prototxt_path = 'path to the weight file'\n",
        "model_path = 'path to pretrained model'\n",
        "train_ground_truth_dir = 'path to ground truth model'\n",
        "# ensure the directory exists\n",
        "os.makedirs(output_dir, exist_ok=True)\n",
        "# load HED\n",
        "net = cv2.dnn.readNetFromCaffe(prototxt_path, model_path)"
      ],
      "metadata": {
        "id": "3MTb6xgul-vn"
      },
      "execution_count": null,
      "outputs": []
    },
    {
      "cell_type": "code",
      "source": [
        "#define evaluate function\n",
        "def calculate_metrics(ground_truth, detected_edges):\n",
        "    gt_binary = (ground_truth > 0).astype(int).flatten()\n",
        "    detected_binary = (detected_edges > 0).astype(int).flatten()\n",
        "\n",
        "    precision = precision_score(gt_binary, detected_binary)\n",
        "    recall = recall_score(gt_binary, detected_binary)\n",
        "    f1 = f1_score(gt_binary, detected_binary)\n",
        "\n",
        "    return precision, recall, f1\n"
      ],
      "metadata": {
        "id": "BpMjiT0jmxF6"
      },
      "execution_count": null,
      "outputs": []
    },
    {
      "cell_type": "code",
      "source": [
        "# Store metrics for all models\n",
        "all_metrics = {\n",
        "    'canny1': [],\n",
        "    'canny2': [],\n",
        "    'canny3': [],\n",
        "    'hed': []\n",
        "}"
      ],
      "metadata": {
        "id": "0nh5TtTcn4Tq"
      },
      "execution_count": null,
      "outputs": []
    },
    {
      "cell_type": "code",
      "source": [
        "for filename in os.listdir(train_image_dir):\n",
        "    if filename.endswith('.jpg'):\n",
        "        #load the images\n",
        "        image_path = os.path.join(train_image_dir, filename)\n",
        "        image = cv2.imread(image_path)\n",
        "\n",
        "        #load the ground_truth（MAT）\n",
        "        gt_filename = filename.replace('.jpg', '.mat')\n",
        "        gt_data = loadmat(os.path.join(train_ground_truth_dir, gt_filename))\n",
        "\n",
        "        #Extract real edge maps (Boundaries section)\n",
        "        ground_truth_list = gt_data['groundTruth'][0][0][0]\n",
        "        boundaries = ground_truth_list[0][0][1]\n",
        "\n",
        "        #Ensure the boundary is a binary image\n",
        "        ground_truth = (boundaries > 0).astype(np.uint8) * 255\n",
        "\n",
        "        #Ensure the size of the ground_truth and Canny edge maps is consistent\n",
        "        if ground_truth.shape != image.shape[:2]:\n",
        "            ground_truth = cv2.resize(ground_truth, (image.shape[1], image.shape[0]))\n",
        "\n",
        "        #Using Canny edge detection, set three hyperparameters\n",
        "        #Using different Canny edge detection thresholds\n",
        "        canny_edges1 = cv2.Canny(image, 50, 150)\n",
        "        canny_edges2 = cv2.Canny(image, 30, 200)\n",
        "        canny_edges3 = cv2.Canny(image, 0, 100)\n",
        "        #Ensure the Canny edge graph is a binary graph\n",
        "        canny_edges1 = (canny_edges1 > 0).astype(np.uint8) * 255\n",
        "        canny_edges2 = (canny_edges2 > 0).astype(np.uint8) * 255\n",
        "        canny_edges3 = (canny_edges3 > 0).astype(np.uint8) * 255\n",
        "\n",
        "        # Use HED detection\n",
        "        blob = cv2.dnn.blobFromImage(image, 1.0, (image.shape[1], image.shape[0]), (104.00698793,116.66876762,122.67891434), swapRB=True, crop=False)\n",
        "        net.setInput(blob)\n",
        "        hed_edges = net.forward()[0, 0] * 255\n",
        "        hed_edges = hed_edges.astype(np.uint8)\n",
        "\n",
        "        #Ensure the size of the HED edge map is consistent\n",
        "        if hed_edges.shape != image.shape[:2]:\n",
        "            hed_edges = cv2.resize(hed_edges, (image.shape[1], image.shape[0]))\n",
        "\n",
        "        # Calculate evaluation\n",
        "        canny_metrics1 = calculate_metrics(ground_truth, canny_edges1)\n",
        "        canny_metrics2 = calculate_metrics(ground_truth, canny_edges2)\n",
        "        canny_metrics3 = calculate_metrics(ground_truth, canny_edges3)\n",
        "        hed_metrics = calculate_metrics(ground_truth, hed_edges)\n",
        "\n",
        "        # Store evaluation\n",
        "        all_metrics['canny1'].append(canny_metrics1)\n",
        "        all_metrics['canny2'].append(canny_metrics2)\n",
        "        all_metrics['canny3'].append(canny_metrics3)\n",
        "        all_metrics['hed'].append(hed_metrics)\n",
        "\n",
        "\n",
        "        print(f\"{filename}: Canny 1 - Precision: {canny_metrics1[0]:.2f}, Recall: {canny_metrics1[1]:.2f}, F1: {canny_metrics1[2]:.2f}\")\n",
        "        print(f\"{filename}: Canny 2 - Precision: {canny_metrics2[0]:.2f}, Recall: {canny_metrics2[1]:.2f}, F1: {canny_metrics2[2]:.2f}\")\n",
        "        print(f\"{filename}: Canny 3 - Precision: {canny_metrics3[0]:.2f}, Recall: {canny_metrics3[1]:.2f}, F1: {canny_metrics3[2]:.2f}\")\n",
        "        print(f\"{filename}: HED - Precision: {hed_metrics[0]:.2f}, Recall: {hed_metrics[1]:.2f}, F1: {hed_metrics[2]:.2f}\")\n",
        "        #Result visualization\n",
        "        combined = np.hstack((image,\n",
        "                               cv2.cvtColor(canny_edges1, cv2.COLOR_GRAY2BGR),\n",
        "                               cv2.cvtColor(canny_edges2, cv2.COLOR_GRAY2BGR),\n",
        "                               cv2.cvtColor(canny_edges3, cv2.COLOR_GRAY2BGR),\n",
        "                               cv2.cvtColor(hed_edges, cv2.COLOR_GRAY2BGR)))\n",
        "        plt.imshow(cv2.cvtColor(combined, cv2.COLOR_BGR2RGB))\n",
        "        plt.axis('off')\n",
        "        plt.title(f'Original | Canny 1 | Canny 2 | Canny 3 | HED')\n",
        "        plt.show()"
      ],
      "metadata": {
        "id": "aKNTY_Nsmy6k"
      },
      "execution_count": null,
      "outputs": []
    },
    {
      "cell_type": "code",
      "source": [
        "#Calculate and output the mean, median of all models\n",
        "for model in all_metrics:\n",
        "    metrics_array = np.array(all_metrics[model])\n",
        "    mean_metrics = np.mean(metrics_array, axis=0)\n",
        "    median_metrics = np.median(metrics_array, axis=0)\n",
        "\n",
        "    print(f\"{model} - Mean: Precision: {mean_metrics[0]:.2f}, Recall: {mean_metrics[1]:.2f}, F1: {mean_metrics[2]:.2f}\")\n",
        "    print(f\"{model} - Median: Precision: {median_metrics[0]:.2f}, Recall: {median_metrics[1]:.2f}, F1: {median_metrics[2]:.2f}\")"
      ],
      "metadata": {
        "id": "lzad1P5Znxjh"
      },
      "execution_count": null,
      "outputs": []
    },
    {
      "cell_type": "code",
      "source": [],
      "metadata": {
        "id": "IL3k9VnSn21B"
      },
      "execution_count": null,
      "outputs": []
    }
  ]
}