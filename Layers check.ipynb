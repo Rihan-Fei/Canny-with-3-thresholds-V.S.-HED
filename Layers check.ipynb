{
  "nbformat": 4,
  "nbformat_minor": 0,
  "metadata": {
    "colab": {
      "provenance": [],
      "authorship_tag": "ABX9TyN1TvFedRmsBSt/Mir2yuQp",
      "include_colab_link": true
    },
    "kernelspec": {
      "name": "python3",
      "display_name": "Python 3"
    },
    "language_info": {
      "name": "python"
    }
  },
  "cells": [
    {
      "cell_type": "markdown",
      "metadata": {
        "id": "view-in-github",
        "colab_type": "text"
      },
      "source": [
        "<a href=\"https://colab.research.google.com/github/Rihan-Fei/Canny-with-3-thresholds-V.S.-HED/blob/main/Layers%20check.ipynb\" target=\"_parent\"><img src=\"https://colab.research.google.com/assets/colab-badge.svg\" alt=\"Open In Colab\"/></a>"
      ]
    },
    {
      "cell_type": "code",
      "source": [
        "\n",
        "import cv2\n",
        "\n",
        "from google.colab import drive\n",
        "drive.mount('/content/drive')\n",
        "\n",
        "#set model path\n",
        "prototxt_path = '/content/drive/My Drive/lunkuo/deploy.prototxt'  # use real path\n",
        "model_path = '/content/drive/My Drive/lunkuo/hed_pretrained_bsds.caffemodel'\n",
        "\n",
        "# load HED model\n",
        "net = cv2.dnn.readNetFromCaffe(prototxt_path, model_path)\n",
        "\n",
        "# Statistical convolutional layer and ReLU activation function layer\n",
        "conv_count = 0\n",
        "relu_count = 0\n",
        "\n",
        "# Traverse all layers\n",
        "for layer in net.getLayerNames():\n",
        "    layer_type = net.getLayer(net.getLayerId(layer)).type\n",
        "    if layer_type == 'Convolution':\n",
        "        conv_count += 1\n",
        "        print(f'Layers: {layer}')\n",
        "    elif layer_type == 'ReLU':\n",
        "        relu_count += 1\n",
        "        print(f'ReLU: {layer}')\n",
        "\n",
        "print(f'In total {conv_count} Convolutional Layers.')\n",
        "print(f'In total {relu_count} ReLU activation layer。')"
      ],
      "metadata": {
        "colab": {
          "base_uri": "https://localhost:8080/"
        },
        "id": "dvjdb3kCX16B",
        "outputId": "6e5c3d40-65fb-4149-8abd-f254b5d54c87"
      },
      "execution_count": 14,
      "outputs": [
        {
          "output_type": "stream",
          "name": "stdout",
          "text": [
            "Drive already mounted at /content/drive; to attempt to forcibly remount, call drive.mount(\"/content/drive\", force_remount=True).\n",
            "Layers: conv1_1\n",
            "ReLU: relu1_1\n",
            "Layers: conv1_2\n",
            "ReLU: relu1_2\n",
            "Layers: conv2_1\n",
            "ReLU: relu2_1\n",
            "Layers: conv2_2\n",
            "ReLU: relu2_2\n",
            "Layers: conv3_1\n",
            "ReLU: relu3_1\n",
            "Layers: conv3_2\n",
            "ReLU: relu3_2\n",
            "Layers: conv3_3\n",
            "ReLU: relu3_3\n",
            "Layers: conv4_1\n",
            "ReLU: relu4_1\n",
            "Layers: conv4_2\n",
            "ReLU: relu4_2\n",
            "Layers: conv4_3\n",
            "ReLU: relu4_3\n",
            "Layers: conv5_1\n",
            "ReLU: relu5_1\n",
            "Layers: conv5_2\n",
            "ReLU: relu5_2\n",
            "Layers: conv5_3\n",
            "ReLU: relu5_3\n",
            "Layers: score-dsn1-up\n",
            "Layers: score-dsn2\n",
            "Layers: score-dsn3\n",
            "Layers: score-dsn4\n",
            "Layers: score-dsn5\n",
            "Layers: upscore-fuse\n",
            "In total 19 Convolutional Layers.\n",
            "In total 13 ReLU activation layer。\n"
          ]
        }
      ]
    },
    {
      "cell_type": "code",
      "source": [],
      "metadata": {
        "id": "cI9nM6W_rCE7"
      },
      "execution_count": null,
      "outputs": []
    }
  ]
}