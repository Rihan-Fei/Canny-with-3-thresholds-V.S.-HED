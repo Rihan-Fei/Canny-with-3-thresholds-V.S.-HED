{
  "nbformat": 4,
  "nbformat_minor": 0,
  "metadata": {
    "colab": {
      "provenance": [],
      "authorship_tag": "ABX9TyP9lPHd44gsAg/NcaTqzbcN",
      "include_colab_link": true
    },
    "kernelspec": {
      "name": "python3",
      "display_name": "Python 3"
    },
    "language_info": {
      "name": "python"
    }
  },
  "cells": [
    {
      "cell_type": "markdown",
      "metadata": {
        "id": "view-in-github",
        "colab_type": "text"
      },
      "source": [
        "<a href=\"https://colab.research.google.com/github/Rihan-Fei/Canny-with-3-thresholds-V.S.-HED/blob/main/Canny%20manually%20implemented.ipynb\" target=\"_parent\"><img src=\"https://colab.research.google.com/assets/colab-badge.svg\" alt=\"Open In Colab\"/></a>"
      ]
    },
    {
      "cell_type": "code",
      "execution_count": null,
      "metadata": {
        "id": "MxU9GgRj5cCg"
      },
      "outputs": [],
      "source": [
        "from PIL import Image\n",
        "from matplotlib import pyplot as plt\n",
        "import math\n",
        "from PIL import ImageFilter\n",
        "import numpy as np\n",
        "import warnings\n",
        "warnings.filterwarnings(\"ignore\")"
      ]
    },
    {
      "cell_type": "code",
      "source": [
        "im = Image.open('path to your image')\n",
        "im_gray = im.convert('L')   #convert to gray iages\n",
        "\n",
        "plt.imshow(im_gray, cmap='gray')\n",
        "plt.axis('off')\n",
        "plt.show()"
      ],
      "metadata": {
        "id": "Fdk297yk5dH_"
      },
      "execution_count": null,
      "outputs": []
    },
    {
      "cell_type": "code",
      "source": [
        "im_gray = im_gray.filter(ImageFilter.SMOOTH) #Filter"
      ],
      "metadata": {
        "id": "qI0Y2cLX5w_S"
      },
      "execution_count": null,
      "outputs": []
    },
    {
      "cell_type": "code",
      "source": [
        "\n",
        "im_array = np.array(im_gray)\n",
        "\n",
        "#Initialize gradient array\n",
        "grad = np.zeros((im_array.shape[0], im_array.shape[1], 2), dtype=np.float32)\n",
        "\n",
        "#Calculate gradient\n",
        "for j in range(1, im_array.shape[0] - 1):\n",
        "    for i in range(1, im_array.shape[1] - 1):\n",
        "        #X-direction gradient\n",
        "        grad_x = im_array[j + 1, i + 1] + im_array[j - 1, i + 1] + 2 * im_array[j, i + 1] - \\\n",
        "                  im_array[j - 1, i - 1] - im_array[j + 1, i - 1] - 2 * im_array[j, i - 1]\n",
        "\n",
        "        #y-direction gradient\n",
        "        grad_y = im_array[j + 1, i - 1] + im_array[j + 1, i + 1] + 2 * im_array[j + 1, i] - \\\n",
        "                  im_array[j - 1, i - 1] - im_array[j - 1, i + 1] - 2 * im_array[j - 1, i]\n",
        "\n",
        "        #Normalized gradient\n",
        "        grad_x = grad_x / 4.0\n",
        "        grad_y = grad_y / 4.0\n",
        "\n",
        "        #Composite gradient modulus\n",
        "        grad[j, i, 0] = min(255, math.sqrt(grad_x ** 2 + grad_y ** 2))\n",
        "\n",
        "        #Gradient direction\n",
        "        if grad_x == 0 and grad_y == 0:\n",
        "            grad[j, i, 1] = 2  # y-direction\n",
        "            theta = math.atan2(grad_y, grad_x)\n",
        "            if abs(theta) < math.pi / 8:\n",
        "                grad[j, i, 1] = 0  # x-direction\n",
        "            elif theta > 0:\n",
        "                if abs(theta) < math.pi * 3 / 8:\n",
        "                    grad[j, i, 1] = 1  # 45 degrees\n",
        "                else:\n",
        "                    grad[j, i, 1] = 2  # y-direction\n",
        "            else:\n",
        "                if abs(theta) < math.pi * 3 / 8:\n",
        "                    grad[j, i, 1] = 3  # 135 degrees\n",
        "                else:\n",
        "                    grad[j, i, 1] = 2  # y-direction\n",
        "\n",
        "\n",
        "gradient_image = np.zeros_like(im_array, dtype=np.uint8)\n",
        "for i in range(im_array.shape[0]):\n",
        "    for j in range(im_array.shape[1]):\n",
        "        gradient_image[i, j] = grad[i, j, 0]\n",
        "\n",
        "plt.figure(2)\n",
        "plt.imshow(gradient_image, cmap='gray')\n",
        "plt.axis('off')\n",
        "plt.show()"
      ],
      "metadata": {
        "id": "JP2g2y0557Iz"
      },
      "execution_count": null,
      "outputs": []
    },
    {
      "cell_type": "code",
      "source": [
        "img2 = np.array(im_gray)\n",
        "\n",
        "#Dual threshold detection, modify by yourself\n",
        "low = 50\n",
        "high = 180\n",
        "\n",
        "#Create a blank image to store the results\n",
        "img2_result = np.zeros_like(img2)\n",
        "\n",
        "for i in range(img2.shape[0]):  # 行\n",
        "    for j in range(img2.shape[1]):  # 列\n",
        "        if img2[i, j] < low:\n",
        "            img2_result[i, j] = 0\n",
        "        elif img2[i, j] > high:\n",
        "            img2_result[i, j] = 255\n",
        "\n",
        "#Display the image after dual threshold detection\n",
        "plt.figure(4)\n",
        "plt.imshow(img2_result, cmap='gray')\n",
        "plt.axis('off')\n",
        "plt.show()\n",
        "\n",
        "#Suppressing isolated weak edges\n",
        "img3 = img2_result.copy()\n",
        "listx = [-1, 0, 1]\n",
        "listy = [-1, 0, 1]\n",
        "\n",
        "for j in range(1, img2.shape[0] - 1):\n",
        "    for i in range(1, img2.shape[1] - 1):\n",
        "        flag = 1\n",
        "        for dx in range(len(listx)):\n",
        "            for dy in range(len(listy)):\n",
        "                xi = i + listx[dx]\n",
        "                yj = j + listy[dy]\n",
        "                if img2_result[yj, xi] == 255:\n",
        "                    flag = 0\n",
        "                    break\n",
        "            if not flag:\n",
        "                break\n",
        "        if flag:\n",
        "            img3[j, i] = 0\n",
        "\n",
        "\n",
        "plt.figure(5)\n",
        "plt.imshow(img3, cmap='gray')\n",
        "plt.axis('off')\n",
        "plt.show()"
      ],
      "metadata": {
        "id": "MRBWAb_j600r"
      },
      "execution_count": null,
      "outputs": []
    }
  ]
}